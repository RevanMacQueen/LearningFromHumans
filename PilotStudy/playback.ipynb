{
 "metadata": {
  "language_info": {
   "codemirror_mode": {
    "name": "ipython",
    "version": 3
   },
   "file_extension": ".py",
   "mimetype": "text/x-python",
   "name": "python",
   "nbconvert_exporter": "python",
   "pygments_lexer": "ipython3",
   "version": "3.8.6-final"
  },
  "orig_nbformat": 2,
  "kernelspec": {
   "name": "Python 3.8.6 64-bit",
   "display_name": "Python 3.8.6 64-bit",
   "metadata": {
    "interpreter": {
     "hash": "79012735dedd5b7ab9ea0e80766de6348e0e127bcc5606c4fa525a028f2fe7d4"
    }
   }
  }
 },
 "nbformat": 4,
 "nbformat_minor": 2,
 "cells": [
  {
   "cell_type": "code",
   "execution_count": 18,
   "metadata": {},
   "outputs": [],
   "source": [
    "from lfh.utils.io import read_trajectory\n",
    "from pathlib import Path"
   ]
  },
  {
   "cell_type": "code",
   "execution_count": 20,
   "metadata": {},
   "outputs": [
    {
     "output_type": "stream",
     "name": "stdout",
     "text": [
      "demonstrations\\_breakout_standard_2020-11-10-14-33_s74209\\episodes\\0\ndemonstrations\\_breakout_standard_2020-11-10-14-33_s74209\\episodes\\0\\episode_train_0000001.pkl\n"
     ]
    }
   ],
   "source": [
    "dir_episodes = Path(\"demonstrations\") / \"_breakout_standard_2020-11-10-14-33_s74209\\\\episodes\\\\0\"\n",
    "print(str(dir_episodes))\n",
    "traj = read_trajectory(str(dir_episodes), 1, flag=\"train\")"
   ]
  },
  {
   "cell_type": "code",
   "execution_count": 22,
   "metadata": {},
   "outputs": [],
   "source": [
    "traj.to_animation( dir_episodes, flag=\"train\")"
   ]
  },
  {
   "cell_type": "code",
   "execution_count": null,
   "metadata": {},
   "outputs": [],
   "source": []
  }
 ]
}